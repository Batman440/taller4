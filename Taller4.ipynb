{
  "nbformat": 4,
  "nbformat_minor": 0,
  "metadata": {
    "colab": {
      "provenance": [],
      "authorship_tag": "ABX9TyNNCTTjkUDhyvZedMK07nCp",
      "include_colab_link": true
    },
    "kernelspec": {
      "name": "python3",
      "display_name": "Python 3"
    },
    "language_info": {
      "name": "python"
    }
  },
  "cells": [
    {
      "cell_type": "markdown",
      "metadata": {
        "id": "view-in-github",
        "colab_type": "text"
      },
      "source": [
        "<a href=\"https://colab.research.google.com/github/Batman440/taller4/blob/main/Taller4.ipynb\" target=\"_parent\"><img src=\"https://colab.research.google.com/assets/colab-badge.svg\" alt=\"Open In Colab\"/></a>"
      ]
    },
    {
      "cell_type": "markdown",
      "source": [
        "##algoritmo para generador de discurso politico\n",
        "\n",
        "1. iniciar\n",
        "2. definir lista para distintas secciones de un discurso\n",
        "3. Definir listas con palabras y frases para cada sección del discurso\n",
        "4. importar la libreria random para seleccionar elementos aleatorios\n",
        "5. escoger un elemento aleatorio de cada lista\n",
        "6. construir el discurso escogiendo un elemento aleatorio de cada lista\n",
        "7. mostrar el discurso"
      ],
      "metadata": {
        "id": "lu_5w1pbRjgf"
      }
    },
    {
      "cell_type": "markdown",
      "source": [
        "##PSEUDOCODIGO\n",
        "\n",
        "\n",
        "1. INICIO.\n",
        "\n",
        "2. DENIFIR lista_titulo = (\"Apreciados amigos\", \"Queridos compatriotas\", \"Estimados ciudadanos\")\n",
        "\n",
        "3. DEFINIR lista_publico = (\"los jóvenes\", \"las familias\", \"los trabajadores\")\n",
        "\n",
        "4. DEFINIR lista_condicion_social = (\"la pobreza\", \"la desigualdad\", \"la corrupción\")\n",
        "\n",
        "5. DEFINIR lista_compromiso_politico = (\"venceré\", \"combatiré\", \"transformaré\")\n",
        "\n",
        "6. DEFINIR lista_lucha_social = (\"luchar por la justicia\", \"defender los derechos\", \"promover la equidad\")\n",
        "\n",
        "7. DEFINIR lista_promesa = (\"y crearé oportunidades\", \"y garantizaré bienestar\", \"y fomentaré el desarrollo\")\n",
        "\n",
        "8. DEFINIR lista_beneficio_populista = (\"para todos\", \"para nuestra comunidad\", \"para el futuro\")\n",
        "\n",
        "9. DEFINIR lista_cantidad_votos = (\"con su apoyo\", \"con su ayuda\", \"con su confianza\")\n",
        "\n",
        " IMPORTAR random\n",
        "\n",
        "1. titulo = seleccionar_aleatorio(lista_titulo)\n",
        "2. publico = seleccionar_aleatorio(lista_publico)\n",
        "3. condicion_social = seleccionar_aleatorio(lista_condicion_social)\n",
        "4. compromiso = seleccionar_aleatorio(lista_compromiso_politico)\n",
        "5. lucha = seleccionar_aleatorio(lista_lucha_social)\n",
        "6. promesa = seleccionar_aleatorio(lista_promesa)\n",
        "7. beneficio = seleccionar_aleatorio(lista_beneficio_populista)\n",
        "8. votos = seleccionar_aleatorio(lista_cantidad_votos)\n",
        "\n",
        "\n",
        " DISCURSO = titulo + \" \" + publico + \" \" + compromiso + \" \" + condicion_social + \" \" + lucha + \" \" + promesa + \" \" + beneficio + \" \" + votos + \".\"\n",
        "\n",
        " IMPRIMIR DISCURSO\n",
        "\n",
        "FIN."
      ],
      "metadata": {
        "id": "-RpBbEY7UZJ0"
      }
    },
    {
      "cell_type": "code",
      "source": [
        "import random\n",
        "\n",
        "# Definición de las listas de palabras y frases\n",
        "lista_titulo = [\"Apreciados amigos\", \"Queridos compatriotas\", \"Estimados ciudadanos\"]\n",
        "lista_publico = [\"los jóvenes\", \"las familias\", \"los trabajadores\"]\n",
        "lista_condicion_social = [\"la pobreza\", \"la desigualdad\", \"la corrupción\"]\n",
        "lista_compromiso_politico = [\"venceré\", \"combatiré\", \"transformaré\"]\n",
        "lista_lucha_social = [\"luchar por la justicia\", \"defender los derechos\", \"promover la equidad\"]\n",
        "lista_promesa = [\"y crearé oportunidades\", \"y garantizaré bienestar\", \"y fomentaré el desarrollo\"]\n",
        "lista_beneficio_populista = [\"para todos\", \"para nuestra comunidad\", \"para el futuro\"]\n",
        "lista_cantidad_votos = [\"con su apoyo\", \"con su ayuda\", \"con su confianza\"]\n",
        "\n",
        "# Seleccionar aleatoriamente una frase de cada lista\n",
        "titulo = random.choice(lista_titulo)\n",
        "publico = random.choice(lista_publico)\n",
        "condicion_social = random.choice(lista_condicion_social)\n",
        "compromiso = random.choice(lista_compromiso_politico)\n",
        "lucha = random.choice(lista_lucha_social)\n",
        "promesa = random.choice(lista_promesa)\n",
        "beneficio = random.choice(lista_beneficio_populista)\n",
        "votos = random.choice(lista_cantidad_votos)\n",
        "\n",
        "# Construir el discurso\n",
        "discurso = f\"{titulo} {publico}, {compromiso} {condicion_social} y {lucha} {promesa} {beneficio} {votos}.\"\n",
        "\n",
        "# Imprimir el discurso final\n",
        "print(discurso)"
      ],
      "metadata": {
        "colab": {
          "base_uri": "https://localhost:8080/"
        },
        "id": "PtS71__bfMrC",
        "outputId": "85bd5d46-9628-43fa-db35-596968be4baa"
      },
      "execution_count": 3,
      "outputs": [
        {
          "output_type": "stream",
          "name": "stdout",
          "text": [
            "Queridos compatriotas los jóvenes, venceré la corrupción y promover la equidad y crearé oportunidades para nuestra comunidad con su apoyo.\n"
          ]
        }
      ]
    },
    {
      "cell_type": "markdown",
      "source": [
        "##Algoritmo para juego cara o sello (V2)\n",
        "1. Iniciar\n",
        "2. asignar valor a cada opcion.\n",
        "   1= cara.\n",
        "   2= sello.\n",
        "3. solicitar al usuario que ingrese su eleccion(cara o sello).\n",
        "4. comparar la eleccion del usuario con el valor de la ficha o moneda.\n",
        "5. si esta coincide, el usuario gana de lo contrario, pierde.\n",
        "6. mostrar resultado a usuario.\n",
        ""
      ],
      "metadata": {
        "id": "URnD8LzVUn8L"
      }
    },
    {
      "cell_type": "markdown",
      "source": [
        "##pseudocodigo\n",
        "1. / Juego de Cara o Sello\n",
        "\n",
        "2. // Declaración de variables\n",
        "int moneda, eleccion, victorias, derrotas, opcion;\n",
        "\n",
        "3. // Constantes\n",
        "const int CARA = 0;\n",
        "const int SELLO = 1\n",
        "const int JUGAR = 1;\n",
        "const int VER_RESULTADOS = 2;\n",
        "const int SALIR = 3;\n",
        "\n",
        "4. // Función principal\n",
        "int main() srand(time(NULL)); // generar números aleatorios\n",
        "victorias = 0;\n",
        "derrotas = 0;\n",
        "\n",
        "5. while (true) // Menú principal\n",
        "cout << \"Juego de Cara o Sello\" << endl;\n",
        "cout << JUGAR << \". Jugar\" << endl;\n",
        "cout << VER_RESULTADOS << \". Ver resultados\" << endl;\n",
        "cout << SALIR << \". Salir\" << endl; cin >> opcion;\n",
        "\n",
        "6. switch (opcion) case JUGAR:\n",
        "    // jugarcout << \"Elige: Cara (\" << CARA << \") o Sello (\" << SELLO << \")\" << endl;cin >> eleccion;\n",
        "    // Generar moneda al azar\n",
        "    moneda = rand() % 2;\n",
        "\n",
        "7. if (eleccion == moneda)\n",
        "      cout << \"Ganaste!\" << endl;\n",
        "      victorias++ else cout << \"Perdiste!\" << endl;derrotas++;\n",
        "    \n",
        "    break;\n",
        "8. case VER_RESULTADOS:\n",
        "    // Ver resultados\n",
        "    cout << \"Victorias: \" << victorias << endl;\n",
        "    cout << \"Derrotas: \" << derrotas << endl;\n",
        "    break;\n",
        "\n",
        "9. case SALIR:\n",
        "    // Salir\n",
        "    return 0;\n",
        "\n",
        "10.  default:\n",
        "    cout << \"Opción inválida\" << endl;\n",
        "\n",
        "11. return 0;\n"
      ],
      "metadata": {
        "id": "xBSCuB6PWt9q"
      }
    },
    {
      "cell_type": "code",
      "source": [
        "import random\n",
        "\n",
        "def jugar_cara_o_sello():\n",
        "    print(\"¡Bienvenido al juego de Cara o Sello!\")\n",
        "\n",
        "    victorias = 0\n",
        "    derrotas = 0\n",
        "\n",
        "    while True:\n",
        "        # Elección del jugador\n",
        "        eleccion = input(\"Elige 'cara' o 'sello' (o 'salir' para terminar): \").lower()\n",
        "\n",
        "        if eleccion == 'salir':\n",
        "            print(\"Gracias por jugar. Resultados finales:\")\n",
        "            print(f\"Victorias: {victorias} | Derrotas: {derrotas}\")\n",
        "            break\n",
        "\n",
        "        if eleccion not in ['cara', 'sello']:\n",
        "            print(\"Elección inválida. Por favor, elige 'cara' o 'sello'.\")\n",
        "            continue\n",
        "\n",
        "        # Lanzar la moneda\n",
        "        resultado = random.choice(['cara', 'sello'])\n",
        "        print(f\"La moneda ha sido lanzada... ¡Y salió {resultado}!\")\n",
        "\n",
        "        # Determinar el resultado del juego\n",
        "        if eleccion == resultado:\n",
        "            print(\"¡Ganaste!\")\n",
        "            victorias += 1\n",
        "        else:\n",
        "            print(\"Perdiste. ¡Inténtalo de nuevo!\")\n",
        "            derrotas += 1\n",
        "\n",
        "# Ejecutar el juego\n",
        "if __name__ == \"__main__\":\n",
        "    jugar_cara_o_sello()"
      ],
      "metadata": {
        "colab": {
          "base_uri": "https://localhost:8080/"
        },
        "id": "DDXc9GKyeGvy",
        "outputId": "f4021258-4c22-43dd-b2e6-283833f4b77e"
      },
      "execution_count": null,
      "outputs": [
        {
          "output_type": "stream",
          "name": "stdout",
          "text": [
            "¡Bienvenido al juego de Cara o Sello!\n",
            "Elige 'cara' o 'sello' (o 'salir' para terminar): cara\n",
            "La moneda ha sido lanzada... ¡Y salió cara!\n",
            "¡Ganaste!\n",
            "Elige 'cara' o 'sello' (o 'salir' para terminar): sello\n",
            "La moneda ha sido lanzada... ¡Y salió cara!\n",
            "Perdiste. ¡Inténtalo de nuevo!\n"
          ]
        }
      ]
    }
  ]
}